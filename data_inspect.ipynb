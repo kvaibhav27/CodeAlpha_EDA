{
 "cells": [
  {
   "cell_type": "code",
   "execution_count": 5,
   "id": "60550019",
   "metadata": {},
   "outputs": [],
   "source": [
    "import numpy as np\n",
    "import pandas as pd\n",
    "import matplotlib.pyplot as plt\n",
    "import seaborn as sns"
   ]
  },
  {
   "cell_type": "code",
   "execution_count": null,
   "id": "134feefa",
   "metadata": {},
   "outputs": [],
   "source": [
    "df.duplicated().sum() \n",
    "df.isnull().sum()"
   ]
  },
  {
   "cell_type": "code",
   "execution_count": null,
   "id": "70748385",
   "metadata": {},
   "outputs": [],
   "source": [
    "df = pd.read_csv('covid_19_data.csv')\n",
    "print(df.head())\n",
    "print(df.info())\n",
    "print(df.columns)\n",
    "df.columns = df.columns.str.strip().str.replace('/', '_').str.lower()\n",
    "df['observationdate'] = pd.to_datetime(df['observationdate'])\n",
    "df.fillna(0, inplace=True)\n",
    "df['active'] = df['confirmed'] - df['recovered'] - df['deaths']"
   ]
  },
  {
   "cell_type": "code",
   "execution_count": null,
   "id": "e1616844",
   "metadata": {},
   "outputs": [],
   "source": [
    "global_trend = df.groupby('observationdate')[['confirmed', 'deaths', 'recovered']].sum()\n",
    "global_trend.plot(figsize=(10, 5), title='Global COVID-19 Cases Over Time')\n",
    "plt.ylabel('Number of Cases')\n",
    "plt.xlabel('Date')\n",
    "plt.grid(True)\n",
    "plt.show()"
   ]
  },
  {
   "cell_type": "code",
   "execution_count": null,
   "id": "540ceeb3",
   "metadata": {},
   "outputs": [],
   "source": [
    "top_countries = df.groupby('country_region')['confirmed'].sum().sort_values(ascending=False).head(10)\n",
    "top_countries.plot(kind='bar', color='orange', title='Top 10 Countries by Confirmed Cases')\n",
    "plt.ylabel('Total Confirmed')\n",
    "plt.show()"
   ]
  },
  {
   "cell_type": "code",
   "execution_count": null,
   "id": "1a67eb75",
   "metadata": {},
   "outputs": [],
   "source": [
    "correlation = df[['confirmed', 'deaths', 'recovered', 'active']].corr()\n",
    "sns.heatmap(correlation, annot=True, cmap='coolwarm')\n",
    "plt.title('Correlation Heatmap')\n",
    "plt.show()\n",
    "sns.scatterplot(x='confirmed', y='deaths', data=df)\n",
    "plt.title('Confirmed vs Deaths')\n",
    "plt.show()"
   ]
  }
 ],
 "metadata": {
  "kernelspec": {
   "display_name": "Python 3",
   "language": "python",
   "name": "python3"
  },
  "language_info": {
   "codemirror_mode": {
    "name": "ipython",
    "version": 3
   },
   "file_extension": ".py",
   "mimetype": "text/x-python",
   "name": "python",
   "nbconvert_exporter": "python",
   "pygments_lexer": "ipython3",
   "version": "3.13.5"
  }
 },
 "nbformat": 4,
 "nbformat_minor": 5
}
